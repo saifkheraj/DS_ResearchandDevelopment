{
 "cells": [
  {
   "cell_type": "code",
   "execution_count": null,
   "id": "c4b07439",
   "metadata": {
    "vscode": {
     "languageId": "plaintext"
    }
   },
   "outputs": [],
   "source": [
    "print(\"hello\")\n"
   ]
  }
 ],
 "metadata": {
  "language_info": {
   "name": "python"
  }
 },
 "nbformat": 4,
 "nbformat_minor": 5
}
